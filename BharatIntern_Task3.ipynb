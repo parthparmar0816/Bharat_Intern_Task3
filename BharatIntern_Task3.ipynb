{
 "cells": [
  {
   "cell_type": "markdown",
   "id": "detected-jason",
   "metadata": {},
   "source": [
    "# Iris Flowers Classification"
   ]
  },
  {
   "cell_type": "markdown",
   "id": "particular-antique",
   "metadata": {},
   "source": [
    "Predict the different species of flowers on the length of there petals and sepals"
   ]
  },
  {
   "cell_type": "markdown",
   "id": "opening-consistency",
   "metadata": {},
   "source": [
    "For this problem we will be using Iris Flower Data, the data set consists of 50 samples from each of three species of Iris (Iris setosa, Iris virginica and Iris versicolor). Four features were measured from each sample: the length and the width of the sepals and petals, in centimeters. Based on the combination of these four features, Fisher developed a linear discriminant model to distinguish the species from each other.\n",
    "\n",
    "To train our machine learning model with Iris Flowe Data, we will be using scikit-learn’s iris dataset."
   ]
  },
  {
   "cell_type": "markdown",
   "id": "fancy-election",
   "metadata": {},
   "source": [
    "## Importing Libraries"
   ]
  },
  {
   "cell_type": "code",
   "execution_count": 47,
   "id": "simple-microphone",
   "metadata": {},
   "outputs": [],
   "source": [
    "import pandas as pd\n",
    "import numpy as np\n",
    "from sklearn.datasets import load_iris\n",
    "from sklearn.tree import DecisionTreeClassifier\n",
    "from sklearn.model_selection import train_test_split"
   ]
  },
  {
   "cell_type": "markdown",
   "id": "coupled-digest",
   "metadata": {},
   "source": [
    "## Loading Iris Flower Data"
   ]
  },
  {
   "cell_type": "code",
   "execution_count": 48,
   "id": "serious-airline",
   "metadata": {},
   "outputs": [
    {
     "name": "stdout",
     "output_type": "stream",
     "text": [
      "Classes to predict:  ['setosa' 'versicolor' 'virginica']\n"
     ]
    }
   ],
   "source": [
    "iris_data = load_iris()\n",
    "print('Classes to predict: ', iris_data.target_names)"
   ]
  },
  {
   "cell_type": "markdown",
   "id": "surprised-yorkshire",
   "metadata": {},
   "source": [
    "## Splitting Features"
   ]
  },
  {
   "cell_type": "code",
   "execution_count": 49,
   "id": "revised-warehouse",
   "metadata": {},
   "outputs": [],
   "source": [
    "# Spliting target variable and independent variables\n",
    "X = iris_data.data\n",
    "y = iris_data.target"
   ]
  },
  {
   "cell_type": "code",
   "execution_count": 50,
   "id": "printable-three",
   "metadata": {},
   "outputs": [
    {
     "name": "stdout",
     "output_type": "stream",
     "text": [
      "Number of examples in the data: 150\n"
     ]
    }
   ],
   "source": [
    "print('Number of examples in the data:', X.shape[0])"
   ]
  },
  {
   "cell_type": "code",
   "execution_count": 51,
   "id": "excellent-withdrawal",
   "metadata": {},
   "outputs": [
    {
     "data": {
      "text/plain": [
       "array([[5.1, 3.5, 1.4, 0.2],\n",
       "       [4.9, 3. , 1.4, 0.2],\n",
       "       [4.7, 3.2, 1.3, 0.2],\n",
       "       [4.6, 3.1, 1.5, 0.2],\n",
       "       [5. , 3.6, 1.4, 0.2]])"
      ]
     },
     "execution_count": 51,
     "metadata": {},
     "output_type": "execute_result"
    }
   ],
   "source": [
    "X[:5]"
   ]
  },
  {
   "cell_type": "code",
   "execution_count": 52,
   "id": "anticipated-indianapolis",
   "metadata": {},
   "outputs": [
    {
     "data": {
      "text/plain": [
       "array([0, 1, 2])"
      ]
     },
     "execution_count": 52,
     "metadata": {},
     "output_type": "execute_result"
    }
   ],
   "source": [
    "y[:150:50] "
   ]
  },
  {
   "cell_type": "markdown",
   "id": "copyrighted-property",
   "metadata": {},
   "source": [
    "## Splitting Data for Training and Testing "
   ]
  },
  {
   "cell_type": "code",
   "execution_count": 53,
   "id": "alert-touch",
   "metadata": {},
   "outputs": [],
   "source": [
    "X_train, X_test, y_train, y_test = train_test_split(X, y, random_state = 47, test_size = 0.25)\n"
   ]
  },
  {
   "cell_type": "markdown",
   "id": "defined-immunology",
   "metadata": {},
   "source": [
    "## Create a Decision Tree Model"
   ]
  },
  {
   "cell_type": "code",
   "execution_count": 54,
   "id": "closing-pulse",
   "metadata": {},
   "outputs": [
    {
     "data": {
      "text/plain": [
       "DecisionTreeClassifier(criterion='entropy')"
      ]
     },
     "execution_count": 54,
     "metadata": {},
     "output_type": "execute_result"
    }
   ],
   "source": [
    "# Import library for Decision Tree\n",
    "from sklearn.tree import DecisionTreeClassifier\n",
    "\n",
    "# Create a Decision Tree model\n",
    "dt = DecisionTreeClassifier(criterion = 'entropy')\n",
    "\n",
    "# Train the model using the training sets \n",
    "dt.fit(X_train, y_train)"
   ]
  },
  {
   "cell_type": "markdown",
   "id": "detailed-scheme",
   "metadata": {},
   "source": [
    "## Model Testing"
   ]
  },
  {
   "cell_type": "code",
   "execution_count": 55,
   "id": "vulnerable-orbit",
   "metadata": {},
   "outputs": [],
   "source": [
    "y_pred =  dt.predict(X_test)"
   ]
  },
  {
   "cell_type": "markdown",
   "id": "hired-budapest",
   "metadata": {},
   "source": [
    "## Accuracy of the Model"
   ]
  },
  {
   "cell_type": "code",
   "execution_count": 56,
   "id": "secure-analyst",
   "metadata": {},
   "outputs": [
    {
     "name": "stdout",
     "output_type": "stream",
     "text": [
      "Accuracy Score on train data:  0.9732142857142857\n",
      "Accuracy Score on the test data:  0.9473684210526315\n"
     ]
    }
   ],
   "source": [
    "from sklearn.metrics import accuracy_score\n",
    "dt = DecisionTreeClassifier(criterion='entropy', min_samples_split=20)\n",
    "dt.fit(X_train, y_train)\n",
    "print('Accuracy Score on train data: ', accuracy_score(y_true=y_train, y_pred=dt.predict(X_train)))\n",
    "print('Accuracy Score on the test data: ', accuracy_score(y_true=y_test, y_pred=dt.predict(X_test)))"
   ]
  },
  {
   "cell_type": "markdown",
   "id": "charged-ordinary",
   "metadata": {},
   "source": [
    "## Model Evaluation"
   ]
  },
  {
   "cell_type": "code",
   "execution_count": 57,
   "id": "compliant-bleeding",
   "metadata": {},
   "outputs": [
    {
     "name": "stdout",
     "output_type": "stream",
     "text": [
      "Confusion Matrix:\n",
      "[[15  0  0]\n",
      " [ 0  8  0]\n",
      " [ 0  1 14]]\n",
      "Classification Report:\n",
      "              precision    recall  f1-score   support\n",
      "\n",
      "           0       1.00      1.00      1.00        15\n",
      "           1       0.89      1.00      0.94         8\n",
      "           2       1.00      0.93      0.97        15\n",
      "\n",
      "    accuracy                           0.97        38\n",
      "   macro avg       0.96      0.98      0.97        38\n",
      "weighted avg       0.98      0.97      0.97        38\n",
      "\n"
     ]
    }
   ],
   "source": [
    "from sklearn.metrics import classification_report, confusion_matrix, accuracy_score\n",
    "result = confusion_matrix(y_test, y_pred)\n",
    "print(\"Confusion Matrix:\")\n",
    "print(result)\n",
    "result1 = classification_report(y_test, y_pred)\n",
    "print(\"Classification Report:\",)\n",
    "print (result1)"
   ]
  },
  {
   "cell_type": "markdown",
   "id": "laughing-nitrogen",
   "metadata": {},
   "source": [
    "## Testing the model on values"
   ]
  },
  {
   "cell_type": "code",
   "execution_count": 61,
   "id": "central-connection",
   "metadata": {},
   "outputs": [
    {
     "name": "stdout",
     "output_type": "stream",
     "text": [
      "Prediction of Species: [0 1 1]\n"
     ]
    }
   ],
   "source": [
    "X_new = np.array([[3, 2, 1, 0.2], [  4.9, 2.2, 3.8, 1.1 ], [  5, 2.5, 2.9, 12.3 ]])\n",
    "#Prediction of the species from the input vector\n",
    "prediction = dt.predict(X_new)\n",
    "print(\"Prediction of Species: {}\".format(prediction))"
   ]
  },
  {
   "cell_type": "code",
   "execution_count": null,
   "id": "liberal-sapphire",
   "metadata": {},
   "outputs": [],
   "source": []
  }
 ],
 "metadata": {
  "kernelspec": {
   "display_name": "Python 3",
   "language": "python",
   "name": "python3"
  },
  "language_info": {
   "codemirror_mode": {
    "name": "ipython",
    "version": 3
   },
   "file_extension": ".py",
   "mimetype": "text/x-python",
   "name": "python",
   "nbconvert_exporter": "python",
   "pygments_lexer": "ipython3",
   "version": "3.8.5"
  }
 },
 "nbformat": 4,
 "nbformat_minor": 5
}
